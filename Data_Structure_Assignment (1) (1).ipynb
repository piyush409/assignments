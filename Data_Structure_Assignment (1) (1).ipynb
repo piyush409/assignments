{
  "nbformat": 4,
  "nbformat_minor": 0,
  "metadata": {
    "colab": {
      "provenance": []
    },
    "kernelspec": {
      "name": "python3",
      "display_name": "Python 3"
    },
    "language_info": {
      "name": "python"
    }
  },
  "cells": [
    {
      "cell_type": "markdown",
      "source": [
        "#**1. Discuss string slicing and provide examples.**"
      ],
      "metadata": {
        "id": "BXLMuXQ0Dp3T"
      }
    },
    {
      "cell_type": "markdown",
      "source": [],
      "metadata": {
        "id": "BavDWrgJOjHW"
      }
    },
    {
      "cell_type": "markdown",
      "source": [],
      "metadata": {
        "id": "5kJek5oBWGlU"
      }
    },
    {
      "cell_type": "markdown",
      "source": [
        " String slicing is a technique in programming, especially in languages like Python, that allows you to extract specific portions of a string based on specified indices. This can be useful for manipulating text, retrieving substrings, or analyzing data.\n",
        "\n",
        "###**Basics of String Slicing**\n",
        "\n",
        "#### In Python, you can slice a string using the following syntax:\n",
        "\n",
        "substring = string[start:end:step]\n",
        "\n",
        "**start: The index where the slice begins (inclusive).**\n",
        "\n",
        "**end: The index where the slice ends (exclusive).**\n",
        "\n",
        "**step: The interval between each index in the slice (optional).**\n",
        "\n",
        "## **Examples**\n",
        "\n",
        "Basic Slicing:"
      ],
      "metadata": {
        "id": "eeyJLkYrD2cB"
      }
    },
    {
      "cell_type": "code",
      "source": [
        "text = \"Hello, World!\"\n",
        "substring = text[0:5]\n"
      ],
      "metadata": {
        "id": "5qK792oOFvQw"
      },
      "execution_count": null,
      "outputs": []
    },
    {
      "cell_type": "markdown",
      "source": [
        "# **2. Explain the key features of lists in python.**\n",
        "\n",
        "##**1. Ordered**\n",
        "\n",
        "Lists maintain the order of elements. Items can be accessed using their index, starting from 0.\n",
        "\n",
        "##**2. Mutable**\n",
        "\n",
        "Lists are mutable, meaning you can change, add, or remove elements after the list has been created.\n",
        "\n",
        "##**3. Heterogeneous**\n",
        "\n",
        "A single list can contain items of different data types (e.g., integers, strings, other lists).\n",
        "\n",
        "##**4. Dynamic Sizing**\n",
        "\n",
        "Lists can grow and shrink in size as items are added or removed, unlike arrays in some other languages that have fixed sizes.\n",
        "\n",
        "##**5. Supports Various Operations**\n",
        "\n",
        "Lists support a variety of operations, including:\n",
        "Appending: list.append(item) adds an item to the end of the list.\n",
        "\n",
        "Inserting: list.insert(index, item) adds an item at a specific position.\n",
        "\n",
        "Removing: list.remove(item) removes the first occurrence of an item.\n",
        "\n",
        "Popping: list.pop(index) removes and returns an item at the specified index.\n",
        "\n",
        "Slicing: You can extract sublists using slicing (e.g., list[start:end]).\n",
        "\n",
        "##**6. Nested Lists**\n",
        "\n",
        "Lists can contain other lists as elements, allowing for the creation of multi-dimensional data structures.\n",
        "\n",
        "##**7. Built-in Functions and Methods**\n",
        "\n",
        "Python provides various built-in functions (like len( ), max( ), min( )) and list methods (like sort( ), reverse( ), count( )) to manipulate lists.\n",
        "\n",
        "###**Example**\n",
        "\n",
        "Here's a simple example that illustrates some of these features:"
      ],
      "metadata": {
        "id": "1mMilH_SF_LG"
      }
    },
    {
      "cell_type": "code",
      "source": [
        "# Creating a list\n",
        "fruits = [\"apple\", \"banana\", \"cherry\"]\n",
        "\n",
        "# Accessing elements\n",
        "print(fruits[1])\n",
        "\n",
        "# Modifying the list\n",
        "fruits.append(\"date\")\n",
        "fruits[0] = \"apricot\"\n",
        "\n",
        "# Removing an item\n",
        "fruits.remove(\"banana\")\n",
        "\n",
        "# Slicing\n",
        "sublist = fruits[1:3]\n",
        "\n",
        "# Nested list\n",
        "nested_list = [fruits, [1, 2, 3]]\n",
        "\n",
        "print(fruits)\n",
        "print(sublist)\n",
        "print(nested_list)\n"
      ],
      "metadata": {
        "colab": {
          "base_uri": "https://localhost:8080/"
        },
        "id": "67zoAwiFHtB8",
        "outputId": "111fb65c-22df-44be-c846-806e114e4754"
      },
      "execution_count": null,
      "outputs": [
        {
          "output_type": "stream",
          "name": "stdout",
          "text": [
            "banana\n",
            "['apricot', 'cherry', 'date']\n",
            "['cherry', 'date']\n",
            "[['apricot', 'cherry', 'date'], [1, 2, 3]]\n"
          ]
        }
      ]
    },
    {
      "cell_type": "markdown",
      "source": [
        "# **3. Describe how to access, modify and delete elements in a list with examples.**\n",
        "\n",
        "\n",
        "#### Accessing, modifying, and deleting elements in a list in Python is straightforward. Here’s a detailed explanation of each operation, along with examples.\n",
        "\n",
        "###**1. Accessing Elements**\n",
        "\n",
        "You can access elements in a list using their index. Indices start from 0.\n",
        "\n",
        "**Example:**"
      ],
      "metadata": {
        "id": "kqAzu731H8Q0"
      }
    },
    {
      "cell_type": "code",
      "source": [
        "fruits = [\"apple\", \"banana\", \"cherry\"]\n",
        "\n",
        "first_fruit = fruits[0]\n",
        "second_fruit = fruits[1]\n",
        "last_fruit = fruits[-1]\n",
        "\n",
        "print(first_fruit)\n",
        "print(second_fruit)\n",
        "print(last_fruit)\n"
      ],
      "metadata": {
        "colab": {
          "base_uri": "https://localhost:8080/"
        },
        "id": "pqPWcYitI0PL",
        "outputId": "fc9804be-9558-4775-d35d-78fe1335469f"
      },
      "execution_count": null,
      "outputs": [
        {
          "output_type": "stream",
          "name": "stdout",
          "text": [
            "apple\n",
            "banana\n",
            "cherry\n"
          ]
        }
      ]
    },
    {
      "cell_type": "markdown",
      "source": [
        "###**2. Modifying Elements**\n",
        "\n",
        "To modify an element, you can assign a new value to the specific index.\n",
        "\n",
        "**Example:**"
      ],
      "metadata": {
        "id": "_qzSCfK8JLQh"
      }
    },
    {
      "cell_type": "code",
      "source": [
        "fruits = [\"apple\", \"banana\", \"cherry\"]\n",
        "fruits[1] = \"blueberry\"\n",
        "\n",
        "print(fruits)\n"
      ],
      "metadata": {
        "colab": {
          "base_uri": "https://localhost:8080/"
        },
        "id": "D0_F6wvvJZ7B",
        "outputId": "a54ba6f9-8ae3-4d4c-e4b4-84219dbdb98b"
      },
      "execution_count": null,
      "outputs": [
        {
          "output_type": "stream",
          "name": "stdout",
          "text": [
            "['apple', 'blueberry', 'cherry']\n"
          ]
        }
      ]
    },
    {
      "cell_type": "markdown",
      "source": [
        "###**3. Deleting Elements**\n",
        "\n",
        "You can delete elements using several methods: remove( ), pop( ), or del.\n",
        "\n",
        "**Example using remove( ):**"
      ],
      "metadata": {
        "id": "RWV79wDGJhfG"
      }
    },
    {
      "cell_type": "code",
      "source": [
        "fruits = [\"apple\", \"banana\", \"cherry\"]\n",
        "fruits.remove(\"banana\")\n",
        "\n",
        "print(fruits)\n"
      ],
      "metadata": {
        "colab": {
          "base_uri": "https://localhost:8080/"
        },
        "id": "wcviRCSyJySZ",
        "outputId": "cdfebf6d-1c5d-46d0-a69f-a035f2b13a18"
      },
      "execution_count": null,
      "outputs": [
        {
          "output_type": "stream",
          "name": "stdout",
          "text": [
            "['apple', 'cherry']\n"
          ]
        }
      ]
    },
    {
      "cell_type": "markdown",
      "source": [
        "**Example using pop():**"
      ],
      "metadata": {
        "id": "9NQxZJX2KEuw"
      }
    },
    {
      "cell_type": "code",
      "source": [
        "fruits = [\"apple\", \"banana\", \"cherry\"]\n",
        "\n",
        "removed_fruit = fruits.pop(1)\n",
        "\n",
        "print(fruits)\n",
        "\n",
        "print(removed_fruit)\n",
        "\n"
      ],
      "metadata": {
        "colab": {
          "base_uri": "https://localhost:8080/"
        },
        "id": "5AVo7R8mKKsu",
        "outputId": "0819e613-0aca-494a-8857-2a7941654a31"
      },
      "execution_count": null,
      "outputs": [
        {
          "output_type": "stream",
          "name": "stdout",
          "text": [
            "['apple', 'cherry']\n",
            "banana\n"
          ]
        }
      ]
    },
    {
      "cell_type": "markdown",
      "source": [
        "**Example using del:**"
      ],
      "metadata": {
        "id": "rfntAXyJK9rV"
      }
    },
    {
      "cell_type": "code",
      "source": [
        "fruits = [\"apple\", \"banana\", \"cherry\"]\n",
        "\n",
        "del fruits[0]\n",
        "\n",
        "print(fruits)\n"
      ],
      "metadata": {
        "colab": {
          "base_uri": "https://localhost:8080/"
        },
        "id": "cl_QQxDYLAqs",
        "outputId": "a5c0930d-f0fe-4b8c-c6e3-266e6c4129f4"
      },
      "execution_count": null,
      "outputs": [
        {
          "output_type": "stream",
          "name": "stdout",
          "text": [
            "['banana', 'cherry']\n"
          ]
        }
      ]
    },
    {
      "cell_type": "markdown",
      "source": [
        "#**4. Compare and contrast tuples and lists with examples.**\n",
        "\n",
        "Tuples and lists are both fundamental data structures in Python that can store collections of items. However, they have several key differences. Here’s a comparison:\n",
        "\n",
        "###**1. Mutability**\n",
        "\n",
        "- Lists: Mutable, meaning you can change their content (add, remove, or modify elements).\n",
        "\n",
        "- Tuples: Immutable, meaning once created, their content cannot be changed.\n",
        "\n",
        "**Example:**"
      ],
      "metadata": {
        "id": "6LZUkZ_wLLWj"
      }
    },
    {
      "cell_type": "code",
      "source": [
        "# List\n",
        "my_list = [1, 2, 3]\n",
        "my_list[0] = 10  # Modifying\n",
        "print(my_list)  # Output: [10, 2, 3]\n",
        "\n",
        "# Tuple\n",
        "my_tuple = (1, 2, 3)\n",
        "# my_tuple[0] = 10  # This will raise a TypeError\n"
      ],
      "metadata": {
        "colab": {
          "base_uri": "https://localhost:8080/"
        },
        "id": "pek6gyOfMvi6",
        "outputId": "c4f10531-d496-4f28-f74d-4640d22e0a15"
      },
      "execution_count": null,
      "outputs": [
        {
          "output_type": "stream",
          "name": "stdout",
          "text": [
            "[10, 2, 3]\n"
          ]
        }
      ]
    },
    {
      "cell_type": "markdown",
      "source": [
        "###**2. Syntax**\n",
        "\n",
        "- Lists: Defined using square brackets [].\n",
        "\n",
        "- Tuples: Defined using parentheses ()\n",
        "\n",
        "**Example:**"
      ],
      "metadata": {
        "id": "TKtDGHNHM0Hw"
      }
    },
    {
      "cell_type": "code",
      "source": [
        "# List\n",
        "my_list = [1, 2, 3]\n",
        "\n",
        "# Tuple\n",
        "my_tuple = (1, 2, 3)\n"
      ],
      "metadata": {
        "id": "FFMMQ_kGNCqX"
      },
      "execution_count": null,
      "outputs": []
    },
    {
      "cell_type": "markdown",
      "source": [
        "###**3. Performance**\n",
        "\n",
        "- Lists: Generally have a larger memory overhead due to their mutability. They are slower when it comes to performance for some operations.\n",
        "\n",
        "- Tuples: Have a smaller memory footprint and are faster for iterations, making them more efficient for fixed data collections.\n",
        "\n",
        "###**4. Use Cases**\n",
        "\n",
        "- Lists: Used when you need a collection of items that can change (e.g., a shopping list).\n",
        "\n",
        "- Tuples: Used when you need a fixed collection of items (e.g., coordinates, records) or when you want to use them as dictionary keys.\n",
        "\n",
        "**Example of Use Case:**"
      ],
      "metadata": {
        "id": "apTLpzQPNPYf"
      }
    },
    {
      "cell_type": "code",
      "source": [
        "# List use case\n",
        "shopping_list = [\"milk\", \"eggs\", \"bread\"]\n",
        "shopping_list.append(\"butter\")  # Modifying list\n",
        "print(shopping_list)  # Output: ['milk', 'eggs', 'bread', 'butter']\n",
        "\n",
        "# Tuple use case\n",
        "coordinates = (10.0, 20.0)  # Fixed point in 2D space\n",
        "# coordinates[0] = 15.0  # This will raise a TypeError\n"
      ],
      "metadata": {
        "colab": {
          "base_uri": "https://localhost:8080/"
        },
        "id": "J6E0zECZNbO2",
        "outputId": "ffcca67e-d8b7-4361-909b-99b19ea1ab14"
      },
      "execution_count": null,
      "outputs": [
        {
          "output_type": "stream",
          "name": "stdout",
          "text": [
            "['milk', 'eggs', 'bread', 'butter']\n"
          ]
        }
      ]
    },
    {
      "cell_type": "markdown",
      "source": [
        "###**5. Methods**\n",
        "\n",
        "- Lists: Have a variety of methods available for modifying, sorting, and manipulating data (e.g., append(), remove(), sort()).\n",
        "\n",
        "- Tuples: Have fewer methods, mainly for accessing data (e.g., count(), index()).\n",
        "\n",
        "**Example:**"
      ],
      "metadata": {
        "id": "1fRiwzjNNyWg"
      }
    },
    {
      "cell_type": "code",
      "source": [
        "# List methods\n",
        "my_list = [1, 2, 3]\n",
        "my_list.append(4)\n",
        "print(my_list)  # Output: [1, 2, 3, 4]\n",
        "\n",
        "# Tuple methods\n",
        "my_tuple = (1, 2, 3, 2)\n",
        "print(my_tuple.count(2))  # Output: 2 (count of 2 in tuple)\n"
      ],
      "metadata": {
        "colab": {
          "base_uri": "https://localhost:8080/"
        },
        "id": "UQCo4jdVOBiH",
        "outputId": "7970f708-7738-45df-f038-9c7ba1ad4886"
      },
      "execution_count": null,
      "outputs": [
        {
          "output_type": "stream",
          "name": "stdout",
          "text": [
            "[1, 2, 3, 4]\n",
            "2\n"
          ]
        }
      ]
    },
    {
      "cell_type": "markdown",
      "source": [
        "#**5. Describe the key features of sets and provide examples of their use.**\n",
        "\n",
        "Sets in Python are a built-in data type that represents an unordered collection of unique items. They are particularly useful for operations involving membership testing, deduplication, and mathematical set operations. Here are the key features of sets along with examples of their use:\n",
        "\n",
        "**Key Features of Sets**\n",
        "\n",
        "**1. Unordered**\n",
        "\n",
        "- Sets do not maintain any particular order for their elements. The order may change when items are added or removed.\n",
        "\n",
        "**2. Unique Elements**\n",
        "\n",
        "- Sets automatically remove duplicate entries. Each element in a set is unique.\n",
        "\n",
        "**3. Mutable**\n",
        "\n",
        "- Sets are mutable, meaning you can add or remove elements after creation. However, the elements themselves must be immutable (e.g., numbers, strings, tuples).\n",
        "\n",
        "**4. Dynamic Size**\n",
        "\n",
        "- Sets can grow and shrink as needed, allowing for dynamic management of the collection.\n",
        "\n",
        "**5. Set Operations**\n",
        "\n",
        "- Sets support mathematical operations such as union, intersection, difference, and symmetric difference, which can be very useful in various applications.\n",
        "\n",
        "**6. Membership Testing**\n",
        "\n",
        "- Checking for membership (whether an item exists in the set) is efficient and typically faster than in lists.\n",
        "\n",
        "**Examples of Set Use**\n",
        "\n",
        "**1. Creating a Set**"
      ],
      "metadata": {
        "id": "BVxr3lKOOGY1"
      }
    },
    {
      "cell_type": "code",
      "source": [
        "# Creating a set\n",
        "my_set = {1, 2, 3, 4, 5}\n",
        "print(my_set)  # Output: {1, 2, 3, 4, 5}\n"
      ],
      "metadata": {
        "colab": {
          "base_uri": "https://localhost:8080/"
        },
        "id": "RLbCGan8QLsj",
        "outputId": "54444bcc-8751-4873-f331-bb6ac82fde37"
      },
      "execution_count": null,
      "outputs": [
        {
          "output_type": "stream",
          "name": "stdout",
          "text": [
            "{1, 2, 3, 4, 5}\n"
          ]
        }
      ]
    },
    {
      "cell_type": "markdown",
      "source": [
        "**2. Adding and Removing Elements**"
      ],
      "metadata": {
        "id": "jSKofB3GQNkZ"
      }
    },
    {
      "cell_type": "code",
      "source": [
        "my_set = {1, 2, 3}\n",
        "\n",
        "# Adding an element\n",
        "my_set.add(4)\n",
        "print(my_set)  # Output: {1, 2, 3, 4}\n",
        "\n",
        "# Removing an element\n",
        "my_set.remove(2)\n",
        "print(my_set)  # Output: {1, 3, 4}\n",
        "\n",
        "# Using discard (doesn't raise an error if the item is not found)\n",
        "my_set.discard(5)  # No error even though 5 is not in the set\n"
      ],
      "metadata": {
        "colab": {
          "base_uri": "https://localhost:8080/"
        },
        "id": "f3GhUjuKQRFJ",
        "outputId": "abb5c0f2-9ca1-4488-cbc3-52966fceb7d0"
      },
      "execution_count": null,
      "outputs": [
        {
          "output_type": "stream",
          "name": "stdout",
          "text": [
            "{1, 2, 3, 4}\n",
            "{1, 3, 4}\n"
          ]
        }
      ]
    },
    {
      "cell_type": "markdown",
      "source": [
        "**3. Unique Elements**"
      ],
      "metadata": {
        "id": "HxTdFtiSQbgD"
      }
    },
    {
      "cell_type": "code",
      "source": [
        "# Creating a set with duplicates\n",
        "my_set = {1, 2, 2, 3, 4, 4, 5}\n",
        "print(my_set)  # Output: {1, 2, 3, 4, 5} (duplicates removed)\n"
      ],
      "metadata": {
        "colab": {
          "base_uri": "https://localhost:8080/"
        },
        "id": "53B9XhuEQd6C",
        "outputId": "a6d484cb-e155-4efc-f2a0-2b384fdb0728"
      },
      "execution_count": null,
      "outputs": [
        {
          "output_type": "stream",
          "name": "stdout",
          "text": [
            "{1, 2, 3, 4, 5}\n"
          ]
        }
      ]
    },
    {
      "cell_type": "markdown",
      "source": [
        "**4. Set Operations**"
      ],
      "metadata": {
        "id": "v7_fOebHQh95"
      }
    },
    {
      "cell_type": "code",
      "source": [
        "set_a = {1, 2, 3}\n",
        "set_b = {3, 4, 5}\n",
        "\n",
        "# Union\n",
        "union_set = set_a.union(set_b)\n",
        "print(union_set)  # Output: {1, 2, 3, 4, 5}\n",
        "\n",
        "# Intersection\n",
        "intersection_set = set_a.intersection(set_b)\n",
        "print(intersection_set)  # Output: {3}\n",
        "\n",
        "# Difference\n",
        "difference_set = set_a.difference(set_b)\n",
        "print(difference_set)  # Output: {1, 2}\n",
        "\n",
        "# Symmetric Difference\n",
        "symmetric_difference_set = set_a.symmetric_difference(set_b)\n",
        "print(symmetric_difference_set)  # Output: {1, 2, 4, 5}\n"
      ],
      "metadata": {
        "colab": {
          "base_uri": "https://localhost:8080/"
        },
        "id": "0ath0HHNQmER",
        "outputId": "20454e39-a4c0-44d3-b1c7-fe592e7c3f77"
      },
      "execution_count": null,
      "outputs": [
        {
          "output_type": "stream",
          "name": "stdout",
          "text": [
            "{1, 2, 3, 4, 5}\n",
            "{3}\n",
            "{1, 2}\n",
            "{1, 2, 4, 5}\n"
          ]
        }
      ]
    },
    {
      "cell_type": "markdown",
      "source": [
        "**5. Membership Testing**"
      ],
      "metadata": {
        "id": "SKbCXVoQQwQR"
      }
    },
    {
      "cell_type": "code",
      "source": [
        "my_set = {1, 2, 3}\n",
        "\n",
        "# Checking membership\n",
        "print(2 in my_set)  # Output: True\n",
        "print(4 in my_set)  # Output: False\n"
      ],
      "metadata": {
        "colab": {
          "base_uri": "https://localhost:8080/"
        },
        "id": "1-__YEASQw8C",
        "outputId": "cb479e47-1215-475a-d3c6-135a7bd3323e"
      },
      "execution_count": null,
      "outputs": [
        {
          "output_type": "stream",
          "name": "stdout",
          "text": [
            "True\n",
            "False\n"
          ]
        }
      ]
    },
    {
      "cell_type": "markdown",
      "source": [
        "#**6. Discuss the use cases of tuples and sets in Python programming.**\n",
        "\n",
        "Tuples and sets are both important data structures in Python, each with its own use cases and characteristics. Here’s a breakdown of their use cases:\n",
        "\n",
        "##**Tuples**\n",
        "\n",
        "**1. Immutability:** Tuples are immutable, which means their values cannot be changed after creation. This makes them ideal for storing data that should not be altered, such as fixed configurations or constants.\n",
        "\n",
        "**2. Data Integrity:** Since tuples are immutable, they can be used as keys in dictionaries, unlike lists. This is useful for creating composite keys in a dictionary.\n",
        "\n",
        "**3. Multiple Return Values:** Functions can return multiple values in the form of a tuple, making it easy to unpack these values when called."
      ],
      "metadata": {
        "id": "BepTmHbZWK_L"
      }
    },
    {
      "cell_type": "code",
      "source": [
        "def get_coordinates():\n",
        "    return (10.0, 20.0)\n",
        "\n",
        "x, y = get_coordinates()\n"
      ],
      "metadata": {
        "id": "7dkHPtL-XQnx"
      },
      "execution_count": 31,
      "outputs": []
    },
    {
      "cell_type": "markdown",
      "source": [
        "**4. Structured Data:** Tuples can be used to group related data together without needing to define a separate class. For example, you can use a tuple to represent a point in a 2D space as (x, y).\n",
        "\n",
        "**5. Performance:** Tuples are generally more memory efficient than lists. If you have a large number of items that won’t change, using a tuple can lead to better performance.\n",
        "\n",
        "##**Sets**\n",
        "\n",
        "**1. Unique Elements:** Sets automatically enforce uniqueness, making them perfect for situations where you need to store non-duplicate items, such as a collection of user IDs or tags.\n",
        "\n",
        "**2. Set Operations:** Sets support mathematical operations like union, intersection, difference, and symmetric difference. This is useful for tasks involving comparison between collections."
      ],
      "metadata": {
        "id": "MFGYR7OIXTMp"
      }
    },
    {
      "cell_type": "code",
      "source": [
        "set_a = {1, 2, 3}\n",
        "set_b = {2, 3, 4}\n",
        "intersection = set_a & set_b  # {2, 3}\n"
      ],
      "metadata": {
        "id": "E20fTgiAX3M6"
      },
      "execution_count": null,
      "outputs": []
    },
    {
      "cell_type": "markdown",
      "source": [
        "**3. Membership Testing:** Sets provide O(1) average time complexity for membership tests, making them a great choice for checking if an item exists within a collection.\n",
        "\n",
        "**4. Data Cleaning:** Sets can be used to remove duplicates from a list. Converting a list to a set and back to a list is a common pattern for deduplication."
      ],
      "metadata": {
        "id": "iPqTfKF3X4xA"
      }
    },
    {
      "cell_type": "code",
      "source": [
        "my_list = [1, 2, 2, 3, 4, 4]\n",
        "unique_list = list(set(my_list))  # [1, 2, 3, 4]\n"
      ],
      "metadata": {
        "id": "0c_KOAhrYEj6"
      },
      "execution_count": null,
      "outputs": []
    },
    {
      "cell_type": "markdown",
      "source": [
        "**5. Dynamic Collections:** Sets are mutable, so you can add or remove elements easily, which is useful for maintaining collections that can change over time."
      ],
      "metadata": {
        "id": "sMrny4XrYHYx"
      }
    },
    {
      "cell_type": "markdown",
      "source": [
        "#**7. Describe how to add, modify, and delete items in a dictionary with examples.**\n",
        "\n",
        "Dictionaries in Python are mutable, meaning you can add, modify, and delete items easily. Here’s how to do each of these operations with examples:\n",
        "\n",
        "###**1. Adding Items**\n",
        "\n",
        "You can add a new key-value pair to a dictionary by simply assigning a value to a new key."
      ],
      "metadata": {
        "id": "StzkeoX8YOho"
      }
    },
    {
      "cell_type": "code",
      "source": [
        "# Creating a dictionary\n",
        "my_dict = {'name': 'Alice', 'age': 30}\n",
        "\n",
        "# Adding a new item\n",
        "my_dict['city'] = 'New York'\n",
        "\n",
        "print(my_dict)  # Output: {'name': 'Alice', 'age': 30, 'city': 'New York'}\n"
      ],
      "metadata": {
        "colab": {
          "base_uri": "https://localhost:8080/"
        },
        "id": "YYaGhEVkZGIw",
        "outputId": "8d11a6de-a03c-4196-d256-d632bf866f91"
      },
      "execution_count": 32,
      "outputs": [
        {
          "output_type": "stream",
          "name": "stdout",
          "text": [
            "{'name': 'Alice', 'age': 30, 'city': 'New York'}\n"
          ]
        }
      ]
    },
    {
      "cell_type": "markdown",
      "source": [
        "###**2. Modifying Items**\n",
        "\n",
        "To modify the value of an existing key, you can assign a new value to that key."
      ],
      "metadata": {
        "id": "2y1wGAc_ZHwe"
      }
    },
    {
      "cell_type": "code",
      "source": [
        "# Modifying an existing item\n",
        "my_dict['age'] = 31\n",
        "\n",
        "print(my_dict)  # Output: {'name': 'Alice', 'age': 31, 'city': 'New York'}\n"
      ],
      "metadata": {
        "id": "WaL595pgZO_N"
      },
      "execution_count": null,
      "outputs": []
    },
    {
      "cell_type": "markdown",
      "source": [
        "###**3. Deleting Items**\n",
        "\n",
        "You can delete items from a dictionary using the del statement or the pop() method.\n",
        "\n",
        "**Using del:**"
      ],
      "metadata": {
        "id": "5ZRLAemOZV3t"
      }
    },
    {
      "cell_type": "code",
      "source": [
        "# Deleting an item using del\n",
        "del my_dict['city']\n",
        "\n",
        "print(my_dict)  # Output: {'name': 'Alice', 'age': 31}\n"
      ],
      "metadata": {
        "id": "jOgbVV8vZcYF"
      },
      "execution_count": null,
      "outputs": []
    },
    {
      "cell_type": "markdown",
      "source": [
        "###**Using pop():**\n",
        "\n",
        "The pop() method removes a key and returns its value. If the key does not exist, it raises a KeyError unless a default value is provided."
      ],
      "metadata": {
        "id": "-HwORaRoZfBV"
      }
    },
    {
      "cell_type": "code",
      "source": [
        "# Deleting an item using pop\n",
        "age = my_dict.pop('age')\n",
        "\n",
        "print(my_dict)  # Output: {'name': 'Alice'}\n",
        "print(age)      # Output: 31\n"
      ],
      "metadata": {
        "colab": {
          "base_uri": "https://localhost:8080/"
        },
        "id": "cmsd1tGqZlmy",
        "outputId": "c9265f00-d1de-4ac3-dab2-747c3951d6cb"
      },
      "execution_count": 33,
      "outputs": [
        {
          "output_type": "stream",
          "name": "stdout",
          "text": [
            "{'name': 'Alice', 'city': 'New York'}\n",
            "30\n"
          ]
        }
      ]
    },
    {
      "cell_type": "markdown",
      "source": [
        "#**8. Discuss the importance of dictionary keys being immutable and provide examples.**\n",
        "\n",
        "In Python, dictionary keys must be immutable. This is crucial for several reasons:\n",
        "\n",
        "###**1. Hashability**\n",
        "\n",
        "Dictionaries use a hash table for storing data, and the keys must be hashable to enable quick lookups. An immutable key guarantees that its hash value remains constant throughout its lifetime, ensuring that the dictionary can locate values efficiently.\n",
        "\n",
        "**Example:**"
      ],
      "metadata": {
        "id": "F_Q7_dnWZoGX"
      }
    },
    {
      "cell_type": "code",
      "source": [
        "my_dict = {1: 'apple', 2: 'banana'}\n",
        "print(my_dict[1])  # Output: apple\n"
      ],
      "metadata": {
        "id": "cXbjp0ZBaH60"
      },
      "execution_count": null,
      "outputs": []
    },
    {
      "cell_type": "markdown",
      "source": [
        "In this case, integers (1, 2) are immutable and hashable."
      ],
      "metadata": {
        "id": "wpsvClbXaJw7"
      }
    },
    {
      "cell_type": "markdown",
      "source": [
        "###**2. Data Integrity**\n",
        "\n",
        "Immutability ensures that once a key is added to a dictionary, it cannot change. If mutable types (like lists or dictionaries) were allowed as keys, any modification to those keys could lead to unpredictable behavior, such as losing access to the corresponding value.\n",
        "\n",
        "**Example:**"
      ],
      "metadata": {
        "id": "iYJfhYEZaPR1"
      }
    },
    {
      "cell_type": "code",
      "source": [
        "# Attempting to use a list as a key (will raise an error)\n",
        "my_dict = {[1, 2]: 'value'}  # Raises TypeError: unhashable type: 'list'\n"
      ],
      "metadata": {
        "colab": {
          "base_uri": "https://localhost:8080/",
          "height": 159
        },
        "id": "SJlS5X2TaXw2",
        "outputId": "0a1c94e7-63ed-4e54-c374-412db5194452"
      },
      "execution_count": 34,
      "outputs": [
        {
          "output_type": "error",
          "ename": "TypeError",
          "evalue": "unhashable type: 'list'",
          "traceback": [
            "\u001b[0;31m---------------------------------------------------------------------------\u001b[0m",
            "\u001b[0;31mTypeError\u001b[0m                                 Traceback (most recent call last)",
            "\u001b[0;32m<ipython-input-34-a01f1be8aeec>\u001b[0m in \u001b[0;36m<cell line: 2>\u001b[0;34m()\u001b[0m\n\u001b[1;32m      1\u001b[0m \u001b[0;31m# Attempting to use a list as a key (will raise an error)\u001b[0m\u001b[0;34m\u001b[0m\u001b[0;34m\u001b[0m\u001b[0m\n\u001b[0;32m----> 2\u001b[0;31m \u001b[0mmy_dict\u001b[0m \u001b[0;34m=\u001b[0m \u001b[0;34m{\u001b[0m\u001b[0;34m[\u001b[0m\u001b[0;36m1\u001b[0m\u001b[0;34m,\u001b[0m \u001b[0;36m2\u001b[0m\u001b[0;34m]\u001b[0m\u001b[0;34m:\u001b[0m \u001b[0;34m'value'\u001b[0m\u001b[0;34m}\u001b[0m  \u001b[0;31m# Raises TypeError: unhashable type: 'list'\u001b[0m\u001b[0;34m\u001b[0m\u001b[0;34m\u001b[0m\u001b[0m\n\u001b[0m",
            "\u001b[0;31mTypeError\u001b[0m: unhashable type: 'list'"
          ]
        }
      ]
    },
    {
      "cell_type": "markdown",
      "source": [
        "###**3. Preventing Unexpected Changes**\n",
        "\n",
        "Since dictionary keys are immutable, you can rely on the integrity of the mapping between keys and values. If a key were mutable, changes to the key could break the association with its value.\n",
        "\n",
        "**Example:**"
      ],
      "metadata": {
        "id": "owCV33fLadnm"
      }
    },
    {
      "cell_type": "code",
      "source": [
        "# Immutable key example\n",
        "key = (1, 2)  # Tuple is immutable\n",
        "my_dict = {key: 'value'}\n",
        "\n",
        "# This works\n",
        "print(my_dict[key])  # Output: value\n",
        "\n",
        "# Mutable key example\n",
        "mutable_key = [1, 2]  # List is mutable\n",
        "# my_dict[mutable_key] = 'value'  # Raises TypeError\n"
      ],
      "metadata": {
        "id": "zhjqeNmBaiSl"
      },
      "execution_count": null,
      "outputs": []
    },
    {
      "cell_type": "markdown",
      "source": [
        "###**4. Supported Key Types**\n",
        "\n",
        "Immutable types that can be used as dictionary keys include:\n",
        "\n",
        "- Strings\n",
        "- Numbers (integers, floats)\n",
        "- Tuples (if they contain only immutable elements)\n",
        "\n",
        "**Example:**"
      ],
      "metadata": {
        "id": "4eGlyQXdakKr"
      }
    },
    {
      "cell_type": "code",
      "source": [
        "my_dict = {\n",
        "    'name': 'Alice',\n",
        "    42: 'answer',\n",
        "    (1, 2): 'coordinates'\n",
        "}\n",
        "\n",
        "print(my_dict['name'])  # Output: Alice\n",
        "print(my_dict[42])      # Output: answer\n",
        "print(my_dict[(1, 2)])  # Output: coordinates\n"
      ],
      "metadata": {
        "colab": {
          "base_uri": "https://localhost:8080/"
        },
        "id": "VT6OfdDnazEa",
        "outputId": "d8173179-7560-4914-d879-b4160650a84b"
      },
      "execution_count": 35,
      "outputs": [
        {
          "output_type": "stream",
          "name": "stdout",
          "text": [
            "Alice\n",
            "answer\n",
            "coordinates\n"
          ]
        }
      ]
    }
  ]
}