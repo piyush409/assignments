{
 "cells": [
  {
   "cell_type": "markdown",
   "id": "a06e1423-85f8-4670-b045-f6e6e034e946",
   "metadata": {},
   "source": [
    "# 1. Explain key features of python that make it a popular choice for programming.\n"
   ]
  },
  {
   "cell_type": "markdown",
   "id": "af92a1bd-6b39-4e00-acd9-41f76975e158",
   "metadata": {},
   "source": [
    "\n",
    "Python's widespread popularity as a programming language can be attributed to its numerous strengths and advantages:\n",
    "\n",
    "1. **Readability and Simplicity**:\n",
    "   - Clear, easy-to-understand syntax that reduces the learning curve for beginners\n",
    "   - Indentation-based structure that makes the code structure more visually appealing and intuitive\n",
    "   - Use of English-like keywords for improved code readability\n",
    "\n",
    "2. **Versatility**:\n",
    "   - Suitability for a wide range of applications, including web development, data analysis, machine learning, scientific computing, and automation\n",
    "   - Extensive ecosystem of powerful libraries and frameworks that provide functionality for specific domains\n",
    "\n",
    "3.**Cross-platform Compatibility**:\n",
    "   - Ability to write code once and run it on different operating systems (Windows, macOS, Linux) without significant modifications\n",
    "\n",
    "4. **Large and Active Community**:\n",
    "   - Strong support and resources provided by a large community of developers\n",
    "   - Abundant documentation, tutorials, and online resources for learners and developers\n",
    "\n",
    "5. **Efficiency and Performance**:\n",
    "   - Optimized execution through Python's efficient interpreter\n",
    "   - Integration with faster languages like C or C++ for computationally intensive tasks\n",
    "\n",
    "6. **Dynamic Typing and Automatic Memory Management**:\n",
    "   - Flexible and productive development due to dynamic typing\n",
    "   - Reduced risk of memory leaks with automatic memory management\n",
    "\n",
    "7. **Object-Oriented Programming (OOP) Support**:\n",
    "   - Modular and reusable code through OOP principles\n",
    "   - Encapsulation and inheritance for building scalable and maintainable applications\n",
    "\n",
    "These comprehensive features make Python a popular choice among programmers in a wide range of industries and applications, from beginners to experienced professionals."
   ]
  },
  {
   "cell_type": "markdown",
   "id": "f388a9e5-a20c-4b4f-8d93-c4fa5bd6effa",
   "metadata": {},
   "source": [
    "# 2. Describe the role of predefined keyword in python and provide examples of how they are used in a program"
   ]
  },
  {
   "cell_type": "markdown",
   "id": "9c9ea766-cd5e-4356-bcee-75efe997d420",
   "metadata": {},
   "source": [
    "Common Predefined Keywords and Their Functions\n",
    "\n",
    "Here are some of the most commonly used keywords in Python along with their brief descriptions:\n",
    "\n",
    "**if, else, elif**: Used for conditional statements to execute code based on certain conditions.\n",
    "**for, while**: Used for loops to iterate over sequences or execute code repeatedly until a condition is met.\n",
    "**import**: Used to import modules or packages into your code.\n",
    "**and, or, not**: Used for logical operations.\n",
    "**in, not in**: Used for membership testing in sequences.\n",
    "**is, is not**: Used for identity testing.\n",
    "\n",
    "**Examples of Keyword Usage**\n"
   ]
  },
  {
   "cell_type": "markdown",
   "id": "67e21ad2-ddb1-4957-99f3-876313d42789",
   "metadata": {},
   "source": [
    "### Conditional Statements:\n",
    "\n"
   ]
  },
  {
   "cell_type": "code",
   "execution_count": 19,
   "id": "6fd2055d-b1ae-43a9-8360-feb4280e612a",
   "metadata": {},
   "outputs": [
    {
     "name": "stdout",
     "output_type": "stream",
     "text": [
      "You are an adult.\n"
     ]
    }
   ],
   "source": [
    "age = 25\n",
    "if age >= 18:\n",
    "    print(\"You are an adult.\")\n",
    "else:\n",
    "    print(\"You are a minor.\")"
   ]
  },
  {
   "cell_type": "markdown",
   "id": "6e892f98-aeed-4d33-a5c9-ab8c874f4ecc",
   "metadata": {},
   "source": [
    "### Loops:"
   ]
  },
  {
   "cell_type": "code",
   "execution_count": 22,
   "id": "3bec7bd3-266d-4b6c-9793-e0f8ce5e17b5",
   "metadata": {},
   "outputs": [
    {
     "name": "stdout",
     "output_type": "stream",
     "text": [
      "apple\n",
      "banana\n",
      "orange\n",
      "0\n",
      "1\n",
      "2\n",
      "3\n",
      "4\n"
     ]
    }
   ],
   "source": [
    "fruits = [\"apple\", \"banana\", \"orange\"]\n",
    "for fruit in fruits:\n",
    "    print(fruit)\n",
    "\n",
    "i = 0\n",
    "while i < 5:\n",
    "    print(i)\n",
    "    i += 1"
   ]
  },
  {
   "cell_type": "markdown",
   "id": "e06376c2-cfdd-4237-9480-223393d5e2cc",
   "metadata": {},
   "source": [
    "# 3. Compare and contrast mutable and immutable objects in python with examples.\n"
   ]
  },
  {
   "cell_type": "markdown",
   "id": "963d8331-9443-4316-b9b5-09e7fd797511",
   "metadata": {},
   "source": [
    "**Mutable and Immutable Objects in Python**\n",
    "\n",
    "In Python, objects can be classified into two categories: mutable and immutable. The key difference lies in their ability to be modified after creation.\n",
    "\n",
    "**Mutable Objects**\n",
    "\n",
    "Mutable objects can be changed after they are created. This means that the values stored within these objects can be altered.\n",
    "\n",
    "***Examples of mutable objects***:\n",
    "\n"
   ]
  },
  {
   "cell_type": "markdown",
   "id": "28ef8c10-347a-4356-8708-3cab6400c0d1",
   "metadata": {},
   "source": [
    "### Lists:\n"
   ]
  },
  {
   "cell_type": "code",
   "execution_count": 40,
   "id": "4e16cbd3-047e-4b35-bdef-50f8466bf5a7",
   "metadata": {},
   "outputs": [
    {
     "name": "stdout",
     "output_type": "stream",
     "text": [
      "[10, 2, 3]\n"
     ]
    }
   ],
   "source": [
    "my_list = [1, 2, 3]\n",
    "my_list[0] = 10\n",
    "print(my_list)"
   ]
  },
  {
   "cell_type": "markdown",
   "id": "dd608118-672c-414c-a878-eb070abe93dc",
   "metadata": {},
   "source": [
    "**Immutable Objects**\n",
    "\n",
    " Immutable objects cannot be changed once they are created. Any operation that appears to modify an immutable object actually creates a new object with the modified values.   \n",
    "\n",
    "**Examples of immutable objects**:"
   ]
  },
  {
   "cell_type": "markdown",
   "id": "4a20d34b-5471-4b34-be04-d4c24e3caaaf",
   "metadata": {},
   "source": [
    "### Numbers (integers, floats, complex numbers):"
   ]
  },
  {
   "cell_type": "code",
   "execution_count": 35,
   "id": "05a0359f-0e58-41cf-ac37-09e161fbb000",
   "metadata": {},
   "outputs": [
    {
     "name": "stdout",
     "output_type": "stream",
     "text": [
      "6\n"
     ]
    }
   ],
   "source": [
    "x = 5\n",
    "x += 1\n",
    "print(x)"
   ]
  },
  {
   "cell_type": "markdown",
   "id": "bb3a411f-29e8-4860-856c-74a3df180a8b",
   "metadata": {},
   "source": [
    "### Strings:\n"
   ]
  },
  {
   "cell_type": "code",
   "execution_count": 42,
   "id": "05f0a4f3-36b6-47a5-8069-0cbf07edbeb6",
   "metadata": {},
   "outputs": [
    {
     "name": "stdout",
     "output_type": "stream",
     "text": [
      "Hello world\n"
     ]
    }
   ],
   "source": [
    "my_string = \"Hello\"\n",
    "my_string = my_string + \" world\"\n",
    "print(my_string)"
   ]
  },
  {
   "cell_type": "markdown",
   "id": "ab7b5885-2141-473f-85e8-e0aa5a35e491",
   "metadata": {},
   "source": [
    "# 4. Discuss the different types of operators in python and provide examples of how they are used."
   ]
  },
  {
   "cell_type": "markdown",
   "id": "e49cd033-672e-4b84-8b73-ab1af11479c1",
   "metadata": {},
   "source": [
    "Types of Operators in Python\n",
    "\n",
    "Python offers a variety of operators to perform different operations on values. These operators can be categorized into several types:\n",
    "\n",
    "Arithmetic Operators\n",
    "\n",
    "Used for performing mathematical calculations.\n",
    "\n",
    "**Addition: +**\n",
    "\n",
    "**Subtraction: -**\n",
    "\n",
    "Multiplication: *\n",
    "\n",
    "**Division: /**\n",
    "\n",
    "**Floor Division: //** (returns the integer quotient)\n",
    "\n",
    "**Modulus: %** (returns the remainder)\n",
    "\n",
    "Exponentiation: **\n"
   ]
  },
  {
   "cell_type": "code",
   "execution_count": 56,
   "id": "a72dc596-c672-4598-93c3-9f5aa0bf8171",
   "metadata": {},
   "outputs": [
    {
     "name": "stdout",
     "output_type": "stream",
     "text": [
      "13\n",
      "7\n",
      "30\n",
      "3.3333333333333335\n",
      "3\n",
      "1\n",
      "1000\n"
     ]
    }
   ],
   "source": [
    "x = 10\n",
    "y = 3\n",
    "print(x + y)\n",
    "print(x - y)\n",
    "print(x * y)\n",
    "print(x / y)\n",
    "print(x // y)\n",
    "print(x % y)\n",
    "print(x ** y)"
   ]
  },
  {
   "cell_type": "markdown",
   "id": "d4da1446-efe0-4082-b829-cd3980a347db",
   "metadata": {},
   "source": [
    "### Comparison Operators\n",
    "\n",
    "Used to compare values and return a Boolean result (True or False).\n",
    "\n",
    "**Equal to: ==**\n",
    "\n",
    "**Not equal to: !=**\n",
    "\n",
    "**Greater than: >**\n",
    "\n",
    "**Less than: <**\n",
    "\n",
    "**Greater than or equal to: >=**\n",
    "\n",
    "**Less than or equal to: <=**\n"
   ]
  },
  {
   "cell_type": "code",
   "execution_count": 61,
   "id": "24567dca-12b9-42e4-beb0-967973e1ca1b",
   "metadata": {},
   "outputs": [
    {
     "name": "stdout",
     "output_type": "stream",
     "text": [
      "False\n",
      "True\n",
      "False\n",
      "True\n",
      "False\n",
      "True\n"
     ]
    }
   ],
   "source": [
    "a = 5\n",
    "b = 7\n",
    "print(a == b)\n",
    "print(a != b)\n",
    "print(a > b)\n",
    "print(a < b)\n",
    "print(a >= b)\n",
    "print(a <= b)"
   ]
  },
  {
   "cell_type": "markdown",
   "id": "7a793c5c-9832-4d59-8785-51d0de5c0b3b",
   "metadata": {},
   "source": [
    "Logical Operators\n",
    "\n",
    " Used to combine Boolean expressions.\n",
    "\n",
    "**And: and**\n",
    "\n",
    "**Or: or**\n",
    "\n",
    "**Not: not**"
   ]
  },
  {
   "cell_type": "code",
   "execution_count": 65,
   "id": "c91167c7-2e74-4125-9cc4-63fab03cb49e",
   "metadata": {},
   "outputs": [
    {
     "name": "stdout",
     "output_type": "stream",
     "text": [
      "False\n",
      "True\n",
      "False\n"
     ]
    }
   ],
   "source": [
    "x = True\n",
    "y = False\n",
    "print(x and y)\n",
    "print(x or y)\n",
    "print(not x)"
   ]
  },
  {
   "cell_type": "markdown",
   "id": "1eec1f20-f93f-4120-93f9-7915fa441ac2",
   "metadata": {},
   "source": [
    "### Assignment Operators\n",
    "\n",
    " Used to assign values to variables.\n",
    "\n",
    "**Simple assignment: =**\n",
    "\n",
    "**Addition assignment: +=**\n",
    "\n",
    "**Subtraction assignment: -=**\n",
    "\n",
    "Multiplication assignment: *=\n",
    "\n",
    "**Division assignment: /=**\n",
    "\n",
    "**Floor division assignment: //=**\n",
    "\n",
    "**Modulus assignment: %=**\n",
    "\n",
    "Exponentiation assignment: **=   "
   ]
  },
  {
   "cell_type": "code",
   "execution_count": 68,
   "id": "c2f7ebc2-f327-4950-b65e-dd3123fe18b4",
   "metadata": {},
   "outputs": [
    {
     "name": "stdout",
     "output_type": "stream",
     "text": [
      "8\n"
     ]
    }
   ],
   "source": [
    "x = 5\n",
    "x += 3\n",
    "print(x)"
   ]
  },
  {
   "cell_type": "markdown",
   "id": "dc1df7ee-33de-46ea-ac47-8cb5f5d18333",
   "metadata": {},
   "source": [
    "### Membership Operators\n",
    "\n",
    " Used to test if a value is present in a sequence.\n",
    "\n",
    "**In: in**\n",
    "\n",
    "**Not in: not in**\n"
   ]
  },
  {
   "cell_type": "code",
   "execution_count": 71,
   "id": "78ff9db5-513e-4d0a-a7c3-dcdd0f0d0ecf",
   "metadata": {},
   "outputs": [
    {
     "name": "stdout",
     "output_type": "stream",
     "text": [
      "True\n",
      "False\n"
     ]
    }
   ],
   "source": [
    "my_list = [1, 2, 3]\n",
    "print(3 in my_list)\n",
    "print(4 in my_list)"
   ]
  },
  {
   "cell_type": "markdown",
   "id": "7c1b662e-5b15-42e2-856a-f6fe19dc3931",
   "metadata": {},
   "source": [
    "### Identity Operators\n",
    "\n",
    " Used to test if two variables refer to the same object in memory.\n",
    "\n",
    "**Is: is**\n",
    "\n",
    "**Is not: is not**"
   ]
  },
  {
   "cell_type": "code",
   "execution_count": 76,
   "id": "f093100c-8ec5-4539-8918-79e41e3d43cf",
   "metadata": {},
   "outputs": [
    {
     "name": "stdout",
     "output_type": "stream",
     "text": [
      "True\n",
      "False\n"
     ]
    }
   ],
   "source": [
    "x = [1, 2, 3]\n",
    "y = x\n",
    "print(x is y)\n",
    "z = [1, 2, 3]\n",
    "print(x is z)"
   ]
  },
  {
   "cell_type": "markdown",
   "id": "90076cec-a43c-4abf-b0b0-f7f1c068d6c3",
   "metadata": {},
   "source": [
    "# 5. Explain the concept of type casting in python with examples."
   ]
  },
  {
   "cell_type": "markdown",
   "id": "a6c39c29-fdf2-4e6d-ba59-9c0ee8931620",
   "metadata": {},
   "source": [
    "### Type Casting in Python\n",
    "\n",
    "Type casting, also known as type conversion, refers to the process of converting a value of one data type to another in Python. This is often done to perform specific operations or to match the expected data type in a function or expression.\n",
    "\n",
    "**Common Type Conversions**\n",
    "\n",
    "Python provides built-in functions to convert values between different data types:\n",
    "\n",
    "**int(value):** Converts a value to an integer.\n",
    "\n",
    "Example: int(\"42\") converts the string \"42\" to the integer 42.\n",
    "\n",
    "**float(value):** Converts a value to a floating-point number.\n",
    "\n",
    "Example: float(\"3.14\") converts the string \"3.14\" to the float 3.14.\n",
    "\n",
    "**str(value):** Converts a value to a string.\n",
    "\n",
    "Example: str(100) converts the integer 100 to the string \"100\".\n",
    "\n",
    "**bool(value):** Converts a value to a Boolean (True or False).\n",
    "\n",
    "Example: bool(0) converts the integer 0 to False, while bool(\"Hello\") converts the string \"Hello\" to True.\n",
    "\n",
    "**list(value):** Converts a value to a list.\n",
    "\n",
    "Example: list(\"abc\") converts the string \"abc\" to the list [\"a\", \"b\", \"c\"].\n",
    "\n",
    "**tuple(value):** Converts a value to a tuple.\n",
    "\n",
    "Example: tuple(\"xyz\") converts the string \"xyz\" to the tuple (\"x\", \"y\", \"z\").\n",
    "\n",
    "**set(value):** Converts a value to a set.\n",
    "\n",
    "Example: set(\"hello\") converts the string \"hello\" to the set {\"h\", \"e\", \"l\", \"o\"}.\n",
    "\n",
    "**dict(value):** Converts a value to a dictionary (requires a specific format).\n",
    "\n",
    "Example: dict([(\"a\", 1), (\"b\", 2)]) converts a list of tuples to a dictionary.\n",
    "\n",
    "\n",
    "### Examples of Type Casting\n",
    "\n",
    "\n"
   ]
  },
  {
   "cell_type": "code",
   "execution_count": 84,
   "id": "8a9fec2b-020c-4226-ba4c-b5e884f357f8",
   "metadata": {},
   "outputs": [
    {
     "name": "stdout",
     "output_type": "stream",
     "text": [
      "123\n",
      "123.0\n",
      "456\n",
      "(1, 2, 3)\n",
      "{'l', 'o', 'e', 'h'}\n"
     ]
    }
   ],
   "source": [
    "num_str = \"123\"\n",
    "num_int = int(num_str)\n",
    "num_float = float(num_str)\n",
    "print(num_int)\n",
    "print(num_float)\n",
    "\n",
    "num = 456\n",
    "str_num = str(num)\n",
    "print(str_num)\n",
    "\n",
    "my_list = [1, 2, 3]\n",
    "my_tuple = tuple(my_list)\n",
    "print(my_tuple)\n",
    "\n",
    "my_string = \"hello\"\n",
    "my_set = set(my_string)\n",
    "print(my_set)"
   ]
  },
  {
   "cell_type": "markdown",
   "id": "578e7971-e5a2-4eda-b92d-cf3b25a18468",
   "metadata": {},
   "source": [
    "# 6. How do conditional statements work in python? Illustrate with examples."
   ]
  },
  {
   "cell_type": "markdown",
   "id": "77155305-2d01-4e40-acac-d33b909b76dc",
   "metadata": {},
   "source": [
    "Conditional statements in Python are used to execute different code blocks based on specific conditions. They allow you to make decisions and control the flow of your program.\n",
    "\n",
    "### Types of Conditional Statements:\n",
    "\n",
    "* **if statement:**\n",
    "\n",
    "Executes a block of code if a condition is true.\n"
   ]
  },
  {
   "cell_type": "code",
   "execution_count": 89,
   "id": "b4a69143-5bdb-4b7b-99d8-a2bf920e20b5",
   "metadata": {},
   "outputs": [
    {
     "name": "stdout",
     "output_type": "stream",
     "text": [
      "You are an adult.\n"
     ]
    }
   ],
   "source": [
    "age = 18\n",
    "if age >= 18:\n",
    "    print(\"You are an adult.\")"
   ]
  },
  {
   "cell_type": "markdown",
   "id": "fa7a1f41-72e3-4068-9d5c-6a28386348d0",
   "metadata": {},
   "source": [
    "* **if-else statement:**\n",
    "\n",
    "Executes one block of code if a condition is true, and another block if it's false.\n"
   ]
  },
  {
   "cell_type": "code",
   "execution_count": 95,
   "id": "c2fdd3a8-adee-4169-815d-8373734a5fb1",
   "metadata": {},
   "outputs": [
    {
     "name": "stdout",
     "output_type": "stream",
     "text": [
      "You are a minor.\n"
     ]
    }
   ],
   "source": [
    "age = 15\n",
    "if age >= 18:\n",
    "    print(\"You are an adult.\")\n",
    "else:\n",
    "    print(\"You are a minor.\")"
   ]
  },
  {
   "cell_type": "markdown",
   "id": "8db74963-23e4-493a-ad4d-13b2608112b6",
   "metadata": {},
   "source": [
    "* **if-elif-else statement:**\n",
    "\n",
    "Executes one block of code among multiple options based on different conditions.\n"
   ]
  },
  {
   "cell_type": "code",
   "execution_count": 98,
   "id": "e0f92766-03bf-4405-99e2-d22879bb8ea9",
   "metadata": {},
   "outputs": [
    {
     "name": "stdout",
     "output_type": "stream",
     "text": [
      "Excellent!\n"
     ]
    }
   ],
   "source": [
    "grade = 90\n",
    "if grade >= 90:\n",
    "    print(\"Excellent!\")\n",
    "elif grade >= 80:\n",
    "    print(\"Good job!\")\n",
    "else:\n",
    "    print(\"Keep practicing!\")"
   ]
  },
  {
   "cell_type": "markdown",
   "id": "1f1ca633-1b26-43ee-8bc5-2ff9b2d60a7d",
   "metadata": {},
   "source": [
    "* **Nested Conditional Statements:**\n",
    " \n",
    "You can nest conditional statements within each other to create more complex decision-making logic"
   ]
  },
  {
   "cell_type": "code",
   "execution_count": 101,
   "id": "6a09d6cf-5f51-4148-97b7-d2f3c64e02f3",
   "metadata": {},
   "outputs": [
    {
     "name": "stdout",
     "output_type": "stream",
     "text": [
      "You are an adult student.\n"
     ]
    }
   ],
   "source": [
    "age = 25\n",
    "is_student = True\n",
    "\n",
    "if age >= 18:\n",
    "    if is_student:\n",
    "        print(\"You are an adult student.\")\n",
    "    else:\n",
    "        print(\"You are an adult non-student.\")\n",
    "else:\n",
    "    print(\"You are a minor.\")"
   ]
  },
  {
   "cell_type": "markdown",
   "id": "bced2745-8560-4051-a907-69a091585b9c",
   "metadata": {},
   "source": [
    "# 7. Describe the difference types of loops in python and their use cases with examples."
   ]
  },
  {
   "cell_type": "markdown",
   "id": "c80df9f9-75bf-4a03-a0bf-6fad7bf5ef2e",
   "metadata": {},
   "source": [
    "## Types of Loops in Python\n",
    "\n",
    "Python offers three primary types of loops to control the flow of execution:\n",
    "\n",
    "### * **for Loop:**\n",
    "\n",
    "Used to iterate over a sequence (like a list, tuple, string, or range)."
   ]
  },
  {
   "cell_type": "markdown",
   "id": "e2d70f1e-1de7-4af1-b603-b4a606da3ea8",
   "metadata": {},
   "source": [
    "### Example:"
   ]
  },
  {
   "cell_type": "code",
   "execution_count": 110,
   "id": "ee6c7c81-b4bc-4eef-9782-f02ec68e5a60",
   "metadata": {},
   "outputs": [
    {
     "name": "stdout",
     "output_type": "stream",
     "text": [
      "apple\n",
      "banana\n",
      "orange\n"
     ]
    }
   ],
   "source": [
    "fruits = [\"apple\", \"banana\", \"orange\"]\n",
    "for fruit in fruits:\n",
    "    print(fruit)"
   ]
  },
  {
   "cell_type": "markdown",
   "id": "ff6d7244-ce96-47d8-94f9-2f6d1cf80eba",
   "metadata": {},
   "source": [
    "#### Use cases:\n",
    "\n",
    "Iterating over elements in a list, tuple, or string.\n",
    "\n",
    "Performing actions a specific number of times using the range() function."
   ]
  },
  {
   "cell_type": "markdown",
   "id": "e19d39d2-15e3-4fc5-9621-c126afe9c57e",
   "metadata": {},
   "source": [
    "### * **while Loop:**\n",
    "\n",
    "Used to execute a block of code repeatedly as long as a condition is true.\n",
    "\n"
   ]
  },
  {
   "cell_type": "markdown",
   "id": "d1f2c7fa-cda1-4c04-9031-e583b2cad90b",
   "metadata": {},
   "source": [
    "#### Example:"
   ]
  },
  {
   "cell_type": "code",
   "execution_count": 122,
   "id": "7eafc583-2b72-4572-95af-0ce02307569d",
   "metadata": {},
   "outputs": [
    {
     "name": "stdout",
     "output_type": "stream",
     "text": [
      "0\n",
      "1\n",
      "2\n",
      "3\n",
      "4\n"
     ]
    }
   ],
   "source": [
    "count = 0\n",
    "while count < 5:\n",
    "    print(count)\n",
    "    count += 1"
   ]
  },
  {
   "cell_type": "markdown",
   "id": "fcd922a1-44a2-43b4-b477-ca22c7155799",
   "metadata": {},
   "source": [
    "#### Use cases:\n",
    "\n",
    "Repeating actions until a certain condition is met.\n",
    "\n",
    "Creating infinite loops (though caution is advised as they can lead to unintended consequences)."
   ]
  },
  {
   "cell_type": "markdown",
   "id": "566728f1-16c0-4cd9-8802-410c35eba86a",
   "metadata": {},
   "source": [
    "### * **nested Loops:**\n",
    "\n",
    "When one loop is placed inside another.\n",
    "\n"
   ]
  },
  {
   "cell_type": "markdown",
   "id": "c7f6867c-ff7f-413f-8f73-68fa6dd40a65",
   "metadata": {},
   "source": [
    "#### Example:"
   ]
  },
  {
   "cell_type": "code",
   "execution_count": 129,
   "id": "dc376d9b-b76c-44c5-b056-b38497533a8b",
   "metadata": {},
   "outputs": [
    {
     "name": "stdout",
     "output_type": "stream",
     "text": [
      "0 0\n",
      "0 1\n",
      "1 0\n",
      "1 1\n",
      "2 0\n",
      "2 1\n"
     ]
    }
   ],
   "source": [
    "for i in range(3):\n",
    "    for j in range(2):\n",
    "        print(i, j)"
   ]
  },
  {
   "cell_type": "markdown",
   "id": "a7e6a59b-c477-4460-b3c8-82e7be3cdb24",
   "metadata": {},
   "source": [
    "#### Use cases:\n",
    "\n",
    "Iterating over multiple dimensions or combinations of elements.\n",
    "\n",
    "Creating patterns or structures.\n"
   ]
  },
  {
   "cell_type": "code",
   "execution_count": null,
   "id": "b0c695be-7153-4e12-87bc-b68c41ea39d0",
   "metadata": {},
   "outputs": [],
   "source": []
  }
 ],
 "metadata": {
  "kernelspec": {
   "display_name": "Python 3 (ipykernel)",
   "language": "python",
   "name": "python3"
  },
  "language_info": {
   "codemirror_mode": {
    "name": "ipython",
    "version": 3
   },
   "file_extension": ".py",
   "mimetype": "text/x-python",
   "name": "python",
   "nbconvert_exporter": "python",
   "pygments_lexer": "ipython3",
   "version": "3.12.4"
  }
 },
 "nbformat": 4,
 "nbformat_minor": 5
}
